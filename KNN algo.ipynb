{
 "cells": [
  {
   "cell_type": "code",
   "execution_count": 27,
   "id": "f366d619",
   "metadata": {},
   "outputs": [
    {
     "ename": "SyntaxError",
     "evalue": "invalid syntax. Perhaps you forgot a comma? (2307561352.py, line 27)",
     "output_type": "error",
     "traceback": [
      "\u001b[1;36m  Cell \u001b[1;32mIn[27], line 27\u001b[1;36m\u001b[0m\n\u001b[1;33m    print(class_votes{})\u001b[0m\n\u001b[1;37m          ^\u001b[0m\n\u001b[1;31mSyntaxError\u001b[0m\u001b[1;31m:\u001b[0m invalid syntax. Perhaps you forgot a comma?\n"
     ]
    }
   ],
   "source": [
    "import numpy as np\n",
    "import pandas as pd\n",
    "\n",
    "data = pd.read_csv('knn.csv')\n",
    "\n",
    "X= data[['HEIGHT', 'WEIGHT']].values\n",
    "y = data['CLASS'].values\n",
    "\n",
    "\n",
    "def euclidean_distance(x1, x2): \n",
    "        return np.sqrt(np.sum((x1-x2) **2))\n",
    "\n",
    "def knn_predict(X, y, new_data, k):\n",
    "    distances = []\n",
    "    for i in range(len(X)):\n",
    "        dist=euclidean_distance(X[i], new_data)\n",
    "        distances.append((dist, y[i]))\n",
    "    distances.sort(key=lambda x: x[0])\n",
    "        \n",
    "    neighbors=distances[:k] \n",
    "    class_votes={'UNDERWEIGHT':0, 'NORMAL':0}\n",
    "    \n",
    "    for neighbor in neighbors:\n",
    "        class_label=neighbor[1]\n",
    "        class_votes[class_label]+=1\n",
    "        \n",
    "        \n",
    "    return max(class_votes, key=class_votes.get)\n",
    "\n",
    "new_data=np.array([57, 170])\n",
    "\n",
    "k=5\n",
    "prediction=knn_predict(X, y, new_data, k)\n",
    "    \n",
    "if prediction == 'UNDERWEIGHT':\n",
    "        print(\"Predicted class:UNDERWEIGHT\")\n",
    "else:\n",
    "        print(\"Predicted class: NORMAL\")\n",
    " "
   ]
  },
  {
   "cell_type": "code",
   "execution_count": null,
   "id": "094476f3",
   "metadata": {},
   "outputs": [],
   "source": []
  }
 ],
 "metadata": {
  "kernelspec": {
   "display_name": "Python 3 (ipykernel)",
   "language": "python",
   "name": "python3"
  },
  "language_info": {
   "codemirror_mode": {
    "name": "ipython",
    "version": 3
   },
   "file_extension": ".py",
   "mimetype": "text/x-python",
   "name": "python",
   "nbconvert_exporter": "python",
   "pygments_lexer": "ipython3",
   "version": "3.11.5"
  }
 },
 "nbformat": 4,
 "nbformat_minor": 5
}
